{
 "cells": [
  {
   "cell_type": "code",
   "execution_count": 1,
   "id": "6fe73d7b",
   "metadata": {},
   "outputs": [
    {
     "name": "stdout",
     "output_type": "stream",
     "text": [
      "6\n"
     ]
    }
   ],
   "source": [
    "a=2\n",
    "b=4\n",
    "c=a+b\n",
    "print(c)"
   ]
  },
  {
   "cell_type": "code",
   "execution_count": 4,
   "id": "ee97e5dc",
   "metadata": {},
   "outputs": [
    {
     "name": "stdout",
     "output_type": "stream",
     "text": [
      "enter the first num2\n",
      "enter the second number3\n",
      "5.0\n"
     ]
    }
   ],
   "source": [
    "x=float(input(\"enter the first num\"))\n",
    "y=int(input(\"enter the second number\"))\n",
    "z=x+y\n",
    "print(z)"
   ]
  },
  {
   "cell_type": "code",
   "execution_count": 9,
   "id": "862863dc",
   "metadata": {},
   "outputs": [
    {
     "name": "stdout",
     "output_type": "stream",
     "text": [
      "47.0\n"
     ]
    }
   ],
   "source": [
    "a=34\n",
    "b=56\n",
    "c=51\n",
    "d=(a+b+c)/3\n",
    "print(d)"
   ]
  },
  {
   "cell_type": "code",
   "execution_count": 17,
   "id": "66bc119b",
   "metadata": {},
   "outputs": [
    {
     "name": "stdout",
     "output_type": "stream",
     "text": [
      "enter your age19\n",
      "adult\n"
     ]
    }
   ],
   "source": [
    "age=int(input(\"enter your age\"))\n",
    "\n",
    "if age > 18:\n",
    "    print(\"adult\")\n",
    "elif age==18:\n",
    "    print(\"teenager\")\n",
    "    \n",
    "else:\n",
    "    print(\"child\")"
   ]
  },
  {
   "cell_type": "code",
   "execution_count": 32,
   "id": "0525cf31",
   "metadata": {},
   "outputs": [
    {
     "name": "stdout",
     "output_type": "stream",
     "text": [
      "None\n"
     ]
    }
   ],
   "source": []
  },
  {
   "cell_type": "code",
   "execution_count": 33,
   "id": "c3d48944",
   "metadata": {},
   "outputs": [
    {
     "data": {
      "text/plain": [
       "NoneType"
      ]
     },
     "execution_count": 33,
     "metadata": {},
     "output_type": "execute_result"
    }
   ],
   "source": [
    "\n"
   ]
  },
  {
   "cell_type": "code",
   "execution_count": null,
   "id": "425de685",
   "metadata": {},
   "outputs": [],
   "source": []
  },
  {
   "cell_type": "code",
   "execution_count": null,
   "id": "d5698f79",
   "metadata": {},
   "outputs": [],
   "source": []
  },
  {
   "cell_type": "code",
   "execution_count": null,
   "id": "03d5884d",
   "metadata": {},
   "outputs": [],
   "source": []
  },
  {
   "cell_type": "code",
   "execution_count": null,
   "id": "1c2e6af3",
   "metadata": {},
   "outputs": [],
   "source": []
  },
  {
   "cell_type": "code",
   "execution_count": null,
   "id": "22956988",
   "metadata": {},
   "outputs": [],
   "source": []
  },
  {
   "cell_type": "code",
   "execution_count": null,
   "id": "c194a5aa",
   "metadata": {},
   "outputs": [],
   "source": []
  },
  {
   "cell_type": "code",
   "execution_count": 25,
   "id": "be3f7aac",
   "metadata": {
    "scrolled": true
   },
   "outputs": [
    {
     "name": "stdout",
     "output_type": "stream",
     "text": [
      "2.0\n"
     ]
    }
   ],
   "source": [
    "a=10\n",
    "b=5\n",
    "c=a/b\n",
    "print(c)"
   ]
  },
  {
   "cell_type": "code",
   "execution_count": 26,
   "id": "b324efc6",
   "metadata": {},
   "outputs": [
    {
     "data": {
      "text/plain": [
       "float"
      ]
     },
     "execution_count": 26,
     "metadata": {},
     "output_type": "execute_result"
    }
   ],
   "source": [
    "type(c)"
   ]
  },
  {
   "cell_type": "code",
   "execution_count": 27,
   "id": "4b26f10e",
   "metadata": {},
   "outputs": [
    {
     "name": "stdout",
     "output_type": "stream",
     "text": [
      "1\n"
     ]
    }
   ],
   "source": [
    "a=11\n",
    "b=5\n",
    "c=a%b\n",
    "print(c)"
   ]
  },
  {
   "cell_type": "markdown",
   "id": "ba1e053b",
   "metadata": {},
   "source": [
    "# user input"
   ]
  },
  {
   "cell_type": "code",
   "execution_count": 5,
   "id": "92cf6a36",
   "metadata": {},
   "outputs": [
    {
     "name": "stdout",
     "output_type": "stream",
     "text": [
      "frist number2\n",
      "second number3\n",
      "5\n"
     ]
    }
   ],
   "source": [
    "a=int(input('frist number'))\n",
    "b=int(input('second number'))\n",
    "c=a+b\n",
    "print(c)"
   ]
  },
  {
   "cell_type": "code",
   "execution_count": 6,
   "id": "0216bf20",
   "metadata": {},
   "outputs": [
    {
     "name": "stdout",
     "output_type": "stream",
     "text": [
      "frist number6\n",
      "second number8\n",
      "14\n"
     ]
    }
   ],
   "source": [
    "                   # data type casting\n",
    "\n",
    "\n",
    "a=int(input('frist number'))\n",
    "b=int(input('second number'))\n",
    "c=a+b\n",
    "print(c)"
   ]
  },
  {
   "cell_type": "code",
   "execution_count": 36,
   "id": "9605dff1",
   "metadata": {},
   "outputs": [
    {
     "name": "stdout",
     "output_type": "stream",
     "text": [
      "enter the first number34\n",
      "enter the second number34\n",
      "3434\n"
     ]
    }
   ],
   "source": [
    "                   #concatation\n",
    "\n",
    "a=input(\"enter the first number\")\n",
    "b=input(\"enter the second number\")\n",
    "c=a+b\n",
    "print(c)"
   ]
  },
  {
   "cell_type": "code",
   "execution_count": 55,
   "id": "5e74daa6",
   "metadata": {},
   "outputs": [
    {
     "name": "stdout",
     "output_type": "stream",
     "text": [
      "enetr your age18\n",
      "teenager\n"
     ]
    }
   ],
   "source": [
    "age = int(input(\"enetr your age\"))\n",
    "if age > 18:\n",
    "    print(\"adult\")\n",
    "elif age==18:\n",
    "    print(\"teenager\")\n",
    "    \n",
    "else:\n",
    "    print(\"ye to baccha hai bhaiii\")\n",
    "    \n",
    "    \n",
    "    "
   ]
  },
  {
   "cell_type": "code",
   "execution_count": 3,
   "id": "445d092d",
   "metadata": {},
   "outputs": [
    {
     "name": "stdout",
     "output_type": "stream",
     "text": [
      "enter your salary45000\n",
      "enter tha yos6\n",
      "bonus 2250.0\n"
     ]
    }
   ],
   "source": [
    "salary=int(input(\"enter your salary\"))\n",
    "year_of_service = int(input(\"enter tha yos\"))\n",
    "\n",
    "if year_of_service>5:\n",
    "    bonus=(salary * 5)/100\n",
    "    print(\"bonus\",bonus)\n",
    "    \n",
    "else:\n",
    "    print(\"no bonus\")"
   ]
  },
  {
   "cell_type": "code",
   "execution_count": 15,
   "id": "ecfc28e7",
   "metadata": {},
   "outputs": [
    {
     "name": "stdout",
     "output_type": "stream",
     "text": [
      "teenager\n"
     ]
    }
   ],
   "source": [
    "#>,<,>=,<=,==,!= .....>condition operator\n",
    "# condation.......>\n",
    "\n",
    "# syntax....> if/else\n",
    "\n",
    "\n",
    "age=18\n",
    "if age>18:\n",
    "    print('adult')\n",
    "elif age ==18:\n",
    "    print('teenager')\n",
    "else:\n",
    "    print('child')\n"
   ]
  },
  {
   "cell_type": "code",
   "execution_count": 9,
   "id": "32e07d48",
   "metadata": {},
   "outputs": [
    {
     "name": "stdout",
     "output_type": "stream",
     "text": [
      "enter the breath2\n",
      "enter the length3\n",
      "rectangel\n"
     ]
    }
   ],
   "source": [
    "l=int(input(\"enter the breath\"))\n",
    "b=int(input(\"enter the length\"))\n",
    "if l==b:\n",
    "    print(\"square\")\n",
    "    \n",
    "else:\n",
    "    print(\"rectangel\")\n",
    "        \n",
    "    "
   ]
  },
  {
   "cell_type": "code",
   "execution_count": 17,
   "id": "e43c81e3",
   "metadata": {},
   "outputs": [
    {
     "name": "stdout",
     "output_type": "stream",
     "text": [
      "year of service5\n",
      "salary67000\n",
      "no bonus\n"
     ]
    }
   ],
   "source": [
    "year_of_service = int(input('year of service'))\n",
    "salary =int(input('salary'))\n",
    "if year_of_service  >5:\n",
    "    bonus=(salary*5)/100\n",
    "    print('bonus')\n",
    "else:\n",
    "    print('no bonus')"
   ]
  },
  {
   "cell_type": "code",
   "execution_count": 15,
   "id": "9aae573a",
   "metadata": {},
   "outputs": [
    {
     "name": "stdout",
     "output_type": "stream",
     "text": [
      "enter the first number1\n",
      "Enter the second number1\n",
      "enter the third number1\n",
      "all values are same so code dose not get the output\n"
     ]
    }
   ],
   "source": [
    "a=int(input(\"enter the first number\"))\n",
    "b=int(input(\"Enter the second number\"))\n",
    "c=int(input(\"enter the third number\"))\n",
    "\n",
    "\n",
    "if a>b and a>c:\n",
    "    print(\"a is greater\")\n",
    "    \n",
    "elif b>a and b>c:\n",
    "    print(\"b is greater\")\n",
    "    \n",
    "elif c>a and c>b:\n",
    "    print(\"c is greater\")\n",
    "    \n",
    "else:\n",
    "    print(\"all values are same so code dose not get the output\")"
   ]
  },
  {
   "cell_type": "code",
   "execution_count": 34,
   "id": "64539aa1",
   "metadata": {},
   "outputs": [
    {
     "name": "stdout",
     "output_type": "stream",
     "text": [
      "enter num167\n",
      "enter num287\n",
      "enter num354\n",
      "b is greater\n"
     ]
    }
   ],
   "source": [
    "a= int(input(\"enter num1\"))\n",
    "b=int(input(\"enter num2\"))\n",
    "c=int(input(\"enter num3\"))\n",
    "\n",
    "if a>b and a>c:\n",
    "    print('a is greater')\n",
    "elif b>c and b>a:\n",
    "    print('b is greater')\n",
    "elif c>a and c>b:\n",
    "    print('c is greater')"
   ]
  },
  {
   "cell_type": "code",
   "execution_count": 10,
   "id": "0b316f76",
   "metadata": {},
   "outputs": [
    {
     "name": "stdout",
     "output_type": "stream",
     "text": [
      "enter quantity11\n",
      " final amount after discount 990.0\n"
     ]
    }
   ],
   "source": [
    "a= int(input (\"enter quantity\"))\n",
    "Total_cost= a*100\n",
    "if a>10:\n",
    "    dis= Total_cost * (10/100)\n",
    "    Final_amount= Total_ , Final_amout)\n",
    "else:\n",
    "    print(\" \" , Total_cost)"
   ]
  },
  {
   "cell_type": "code",
   "execution_count": 5,
   "id": "a3b8cf18",
   "metadata": {},
   "outputs": [
    {
     "name": "stdout",
     "output_type": "stream",
     "text": [
      "8.0\n",
      "type Y for yes & N for no for medical conditoinN\n",
      "not allowed\n"
     ]
    }
   ],
   "source": [
    "class_held=100\n",
    "attend_class=8\n",
    "per_class_attend = (attend_class/class_held)*100\n",
    "print(per_class_attend)\n",
    "\n",
    "if per_class_attend > 75:\n",
    "    print('allowed')\n",
    "else:\n",
    "    med=input('type Y for yes & N for no for medical conditoin')\n",
    "    if med==\"Y\":\n",
    "        print('allowed')\n",
    "    else:\n",
    "            print('not allowed')"
   ]
  },
  {
   "cell_type": "code",
   "execution_count": null,
   "id": "31dac89a",
   "metadata": {},
   "outputs": [],
   "source": []
  }
 ],
 "metadata": {
  "kernelspec": {
   "display_name": "Python 3 (ipykernel)",
   "language": "python",
   "name": "python3"
  },
  "language_info": {
   "codemirror_mode": {
    "name": "ipython",
    "version": 3
   },
   "file_extension": ".py",
   "mimetype": "text/x-python",
   "name": "python",
   "nbconvert_exporter": "python",
   "pygments_lexer": "ipython3",
   "version": "3.9.7"
  }
 },
 "nbformat": 4,
 "nbformat_minor": 5
}
